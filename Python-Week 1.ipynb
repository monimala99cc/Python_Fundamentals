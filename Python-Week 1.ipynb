{
 "cells": [
  {
   "cell_type": "markdown",
   "id": "80eab168",
   "metadata": {},
   "source": [
    "# Python Types\n",
    "\n",
    "There are three main data types in PYthon:\n",
    "1. Integer\n",
    "2. Float/ Real Number\n",
    "3. String\n",
    "4. Boolean (have only two values :True and False)\n",
    "\n",
    "We can find the type of a data by type() function \n"
   ]
  },
  {
   "cell_type": "code",
   "execution_count": 1,
   "id": "cbbbd3e4",
   "metadata": {},
   "outputs": [
    {
     "data": {
      "text/plain": [
       "int"
      ]
     },
     "execution_count": 1,
     "metadata": {},
     "output_type": "execute_result"
    }
   ],
   "source": [
    "type(2)"
   ]
  },
  {
   "cell_type": "code",
   "execution_count": 2,
   "id": "442a2db0",
   "metadata": {},
   "outputs": [
    {
     "data": {
      "text/plain": [
       "float"
      ]
     },
     "execution_count": 2,
     "metadata": {},
     "output_type": "execute_result"
    }
   ],
   "source": [
    "type(11.56)"
   ]
  },
  {
   "cell_type": "code",
   "execution_count": 3,
   "id": "9e3968b0",
   "metadata": {},
   "outputs": [
    {
     "data": {
      "text/plain": [
       "str"
      ]
     },
     "execution_count": 3,
     "metadata": {},
     "output_type": "execute_result"
    }
   ],
   "source": [
    "type(\"Hello Moni!!\")"
   ]
  },
  {
   "cell_type": "code",
   "execution_count": 11,
   "id": "6b26464c",
   "metadata": {},
   "outputs": [
    {
     "data": {
      "text/plain": [
       "bool"
      ]
     },
     "execution_count": 11,
     "metadata": {},
     "output_type": "execute_result"
    }
   ],
   "source": [
    "type(True)"
   ]
  },
  {
   "cell_type": "markdown",
   "id": "017722df",
   "metadata": {},
   "source": [
    "## Type Casting\n",
    "\n",
    "We can convert one date type to another\n",
    "\n",
    "\n",
    "** bool(1) =True\n",
    "bool(0) = False\n",
    "\n",
    "** int(True) = 1\n",
    "int(False) = 0"
   ]
  },
  {
   "cell_type": "code",
   "execution_count": 4,
   "id": "e1d43d4e",
   "metadata": {},
   "outputs": [
    {
     "data": {
      "text/plain": [
       "1.0"
      ]
     },
     "execution_count": 4,
     "metadata": {},
     "output_type": "execute_result"
    }
   ],
   "source": [
    "float(1)"
   ]
  },
  {
   "cell_type": "code",
   "execution_count": 12,
   "id": "a98a57f8",
   "metadata": {},
   "outputs": [
    {
     "data": {
      "text/plain": [
       "1"
      ]
     },
     "execution_count": 12,
     "metadata": {},
     "output_type": "execute_result"
    }
   ],
   "source": [
    "int(True)"
   ]
  },
  {
   "cell_type": "code",
   "execution_count": 5,
   "id": "1ccd4da3",
   "metadata": {},
   "outputs": [
    {
     "data": {
      "text/plain": [
       "1"
      ]
     },
     "execution_count": 5,
     "metadata": {},
     "output_type": "execute_result"
    }
   ],
   "source": [
    "int(1.1)"
   ]
  },
  {
   "cell_type": "code",
   "execution_count": 13,
   "id": "42caab0c",
   "metadata": {},
   "outputs": [
    {
     "data": {
      "text/plain": [
       "True"
      ]
     },
     "execution_count": 13,
     "metadata": {},
     "output_type": "execute_result"
    }
   ],
   "source": [
    "bool(1)"
   ]
  },
  {
   "cell_type": "code",
   "execution_count": 7,
   "id": "34b76624",
   "metadata": {},
   "outputs": [
    {
     "data": {
      "text/plain": [
       "445"
      ]
     },
     "execution_count": 7,
     "metadata": {},
     "output_type": "execute_result"
    }
   ],
   "source": [
    "int(\"445\")"
   ]
  },
  {
   "cell_type": "code",
   "execution_count": 8,
   "id": "6408cd1b",
   "metadata": {},
   "outputs": [
    {
     "ename": "ValueError",
     "evalue": "invalid literal for int() with base 10: 'err'",
     "output_type": "error",
     "traceback": [
      "\u001b[1;31m---------------------------------------------------------------------------\u001b[0m",
      "\u001b[1;31mValueError\u001b[0m                                Traceback (most recent call last)",
      "Cell \u001b[1;32mIn[8], line 1\u001b[0m\n\u001b[1;32m----> 1\u001b[0m \u001b[38;5;28mint\u001b[39m(\u001b[38;5;124m\"\u001b[39m\u001b[38;5;124merr\u001b[39m\u001b[38;5;124m\"\u001b[39m)\n",
      "\u001b[1;31mValueError\u001b[0m: invalid literal for int() with base 10: 'err'"
     ]
    }
   ],
   "source": [
    "int(\"err\")"
   ]
  },
  {
   "cell_type": "code",
   "execution_count": 9,
   "id": "8c4cd1e5",
   "metadata": {},
   "outputs": [
    {
     "data": {
      "text/plain": [
       "'4.55'"
      ]
     },
     "execution_count": 9,
     "metadata": {},
     "output_type": "execute_result"
    }
   ],
   "source": [
    "str(4.55)"
   ]
  },
  {
   "cell_type": "code",
   "execution_count": 10,
   "id": "e83c156c",
   "metadata": {},
   "outputs": [
    {
     "data": {
      "text/plain": [
       "'4588'"
      ]
     },
     "execution_count": 10,
     "metadata": {},
     "output_type": "execute_result"
    }
   ],
   "source": [
    "str(4588)"
   ]
  },
  {
   "cell_type": "markdown",
   "id": "9ca04c7f",
   "metadata": {},
   "source": [
    "# Expressions & Variables\n",
    "\n",
    "Expressions are operations that Python performs like arithematic operations: additions, substraction, multiplication & division\n",
    "\n",
    "e.g: 40+56+98+88 where numbers are operants and + is called operators"
   ]
  },
  {
   "cell_type": "code",
   "execution_count": 14,
   "id": "e576f275",
   "metadata": {},
   "outputs": [
    {
     "data": {
      "text/plain": [
       "306"
      ]
     },
     "execution_count": 14,
     "metadata": {},
     "output_type": "execute_result"
    }
   ],
   "source": [
    "56+98+96+56"
   ]
  },
  {
   "cell_type": "code",
   "execution_count": 15,
   "id": "d12cb93d",
   "metadata": {},
   "outputs": [
    {
     "data": {
      "text/plain": [
       "-42"
      ]
     },
     "execution_count": 15,
     "metadata": {},
     "output_type": "execute_result"
    }
   ],
   "source": [
    "56-98"
   ]
  },
  {
   "cell_type": "code",
   "execution_count": 16,
   "id": "648dced4",
   "metadata": {},
   "outputs": [
    {
     "data": {
      "text/plain": [
       "59222845"
      ]
     },
     "execution_count": 16,
     "metadata": {},
     "output_type": "execute_result"
    }
   ],
   "source": [
    "8899*6655"
   ]
  },
  {
   "cell_type": "code",
   "execution_count": 17,
   "id": "c2a41eab",
   "metadata": {},
   "outputs": [
    {
     "data": {
      "text/plain": [
       "5.0"
      ]
     },
     "execution_count": 17,
     "metadata": {},
     "output_type": "execute_result"
    }
   ],
   "source": [
    "25/5"
   ]
  },
  {
   "cell_type": "code",
   "execution_count": 18,
   "id": "c6711745",
   "metadata": {},
   "outputs": [
    {
     "data": {
      "text/plain": [
       "2.7777777777777777"
      ]
     },
     "execution_count": 18,
     "metadata": {},
     "output_type": "execute_result"
    }
   ],
   "source": [
    "25/9"
   ]
  },
  {
   "cell_type": "code",
   "execution_count": 19,
   "id": "e4a46bea",
   "metadata": {},
   "outputs": [
    {
     "data": {
      "text/plain": [
       "2"
      ]
     },
     "execution_count": 19,
     "metadata": {},
     "output_type": "execute_result"
    }
   ],
   "source": [
    "25//9"
   ]
  },
  {
   "cell_type": "markdown",
   "id": "a6af7de8",
   "metadata": {},
   "source": [
    "# # Variables\n",
    "\n",
    "Variables are used to store values \n",
    "e.g: my_variables = 10"
   ]
  },
  {
   "cell_type": "code",
   "execution_count": 21,
   "id": "81dea6b9",
   "metadata": {},
   "outputs": [
    {
     "name": "stdout",
     "output_type": "stream",
     "text": [
      "3.7\n"
     ]
    }
   ],
   "source": [
    "x=5+9+8+9+6\n",
    "y=x/10\n",
    "print (y)"
   ]
  },
  {
   "cell_type": "code",
   "execution_count": 22,
   "id": "929f7502",
   "metadata": {},
   "outputs": [
    {
     "name": "stdout",
     "output_type": "stream",
     "text": [
      "3.11.5 | packaged by Anaconda, Inc. | (main, Sep 11 2023, 13:26:23) [MSC v.1916 64 bit (AMD64)]\n"
     ]
    }
   ],
   "source": [
    "# python version\n",
    "\n",
    "import sys\n",
    "print(sys.version)"
   ]
  },
  {
   "cell_type": "markdown",
   "id": "53d41ca4",
   "metadata": {},
   "source": [
    "# String\n",
    "\n",
    "In Python, String is a sequence of characters contained within double or single quotes. A string can be number, letters, space, special characters. We can assign a string to a variable and can imagine it as an ordered sequence. Each element in the sequence can be accessed using an index represented b a number.\n",
    "\n",
    "E.g: name= \"Moni\"\n",
    "\n",
    "name[0]: M, name [2]:n"
   ]
  },
  {
   "cell_type": "code",
   "execution_count": 24,
   "id": "d4f68978",
   "metadata": {},
   "outputs": [
    {
     "data": {
      "text/plain": [
       "4"
      ]
     },
     "execution_count": 24,
     "metadata": {},
     "output_type": "execute_result"
    }
   ],
   "source": [
    "name= \"moni\"\n",
    "\n",
    "#length\n",
    "len(name)"
   ]
  },
  {
   "cell_type": "code",
   "execution_count": 26,
   "id": "f1c19195",
   "metadata": {},
   "outputs": [
    {
     "name": "stdout",
     "output_type": "stream",
     "text": [
      "monimala\n"
     ]
    }
   ],
   "source": [
    "#concat\n",
    "\n",
    "fullname= name + \"mala\"\n",
    "print(fullname)"
   ]
  },
  {
   "cell_type": "code",
   "execution_count": 27,
   "id": "f0e24200",
   "metadata": {},
   "outputs": [
    {
     "data": {
      "text/plain": [
       "'monimalamonimalamonimala'"
      ]
     },
     "execution_count": 27,
     "metadata": {},
     "output_type": "execute_result"
    }
   ],
   "source": [
    "3*fullname"
   ]
  },
  {
   "cell_type": "code",
   "execution_count": 30,
   "id": "0703920c",
   "metadata": {},
   "outputs": [
    {
     "name": "stdout",
     "output_type": "stream",
     "text": [
      " hello there\n",
      " How are you?\n"
     ]
    }
   ],
   "source": [
    "#escape sequence\n",
    "\n",
    "print(\" hello there\\n How are you?\")"
   ]
  },
  {
   "cell_type": "code",
   "execution_count": 32,
   "id": "836dad9c",
   "metadata": {},
   "outputs": [
    {
     "name": "stdout",
     "output_type": "stream",
     "text": [
      " hello there\t How are you?\n"
     ]
    }
   ],
   "source": [
    "#tab\n",
    "\n",
    "print(\" hello there\\t How are you?\")"
   ]
  },
  {
   "cell_type": "markdown",
   "id": "bc96bdd0",
   "metadata": {},
   "source": [
    "# # String Methods"
   ]
  },
  {
   "cell_type": "code",
   "execution_count": 34,
   "id": "aa025632",
   "metadata": {},
   "outputs": [
    {
     "data": {
      "text/plain": [
       "'THIS IS MONIMALA HERE'"
      ]
     },
     "execution_count": 34,
     "metadata": {},
     "output_type": "execute_result"
    }
   ],
   "source": [
    "#upper case\n",
    "\n",
    "string= \"this is monimala here\"\n",
    "str=string.upper()\n",
    "str"
   ]
  },
  {
   "cell_type": "code",
   "execution_count": 35,
   "id": "b8eca791",
   "metadata": {},
   "outputs": [
    {
     "data": {
      "text/plain": [
       "'mona is a good girl'"
      ]
     },
     "execution_count": 35,
     "metadata": {},
     "output_type": "execute_result"
    }
   ],
   "source": [
    "#replace\n",
    "\n",
    "str1= \"lola is a good girl\"\n",
    "\n",
    "newStr= str1.replace(\"lola\", \"mona\")\n",
    "newStr"
   ]
  },
  {
   "cell_type": "code",
   "execution_count": 36,
   "id": "9147d6b7",
   "metadata": {},
   "outputs": [
    {
     "data": {
      "text/plain": [
       "10"
      ]
     },
     "execution_count": 36,
     "metadata": {},
     "output_type": "execute_result"
    }
   ],
   "source": [
    "#substring- output is the first index of the sequence else -1\n",
    "\n",
    "newStr.find('good')"
   ]
  },
  {
   "cell_type": "code",
   "execution_count": 39,
   "id": "521c5d10",
   "metadata": {},
   "outputs": [
    {
     "data": {
      "text/plain": [
       "['Hello world']"
      ]
     },
     "execution_count": 39,
     "metadata": {},
     "output_type": "execute_result"
    }
   ],
   "source": [
    "#split\n",
    "\n",
    "my_string=\"Hello world\" \n",
    "split_text = my_string.split(\",\")\n",
    "split_text"
   ]
  },
  {
   "cell_type": "code",
   "execution_count": null,
   "id": "af0be6fc",
   "metadata": {},
   "outputs": [],
   "source": []
  }
 ],
 "metadata": {
  "kernelspec": {
   "display_name": "Python 3 (ipykernel)",
   "language": "python",
   "name": "python3"
  },
  "language_info": {
   "codemirror_mode": {
    "name": "ipython",
    "version": 3
   },
   "file_extension": ".py",
   "mimetype": "text/x-python",
   "name": "python",
   "nbconvert_exporter": "python",
   "pygments_lexer": "ipython3",
   "version": "3.11.5"
  }
 },
 "nbformat": 4,
 "nbformat_minor": 5
}
