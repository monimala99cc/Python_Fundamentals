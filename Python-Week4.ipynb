{
 "cells": [
  {
   "cell_type": "markdown",
   "id": "cc8e3196",
   "metadata": {},
   "source": [
    "# Application Program Interface (API)"
   ]
  },
  {
   "cell_type": "markdown",
   "id": "6ba78494",
   "metadata": {},
   "source": [
    "For example we have our own program code and data, now we want to interact with other software component via inputes and outputs.\n",
    "Pandas is actually a set of software components which are not even written in python. We use the pandas api to process the data by communicating with othe software component.\n"
   ]
  },
  {
   "cell_type": "code",
   "execution_count": 6,
   "id": "f1750611",
   "metadata": {},
   "outputs": [
    {
     "data": {
      "text/html": [
       "<div>\n",
       "<style scoped>\n",
       "    .dataframe tbody tr th:only-of-type {\n",
       "        vertical-align: middle;\n",
       "    }\n",
       "\n",
       "    .dataframe tbody tr th {\n",
       "        vertical-align: top;\n",
       "    }\n",
       "\n",
       "    .dataframe thead th {\n",
       "        text-align: right;\n",
       "    }\n",
       "</style>\n",
       "<table border=\"1\" class=\"dataframe\">\n",
       "  <thead>\n",
       "    <tr style=\"text-align: right;\">\n",
       "      <th></th>\n",
       "      <th>0</th>\n",
       "    </tr>\n",
       "  </thead>\n",
       "  <tbody>\n",
       "    <tr>\n",
       "      <th>0</th>\n",
       "      <td>1</td>\n",
       "    </tr>\n",
       "    <tr>\n",
       "      <th>1</th>\n",
       "      <td>2</td>\n",
       "    </tr>\n",
       "    <tr>\n",
       "      <th>2</th>\n",
       "      <td>3</td>\n",
       "    </tr>\n",
       "    <tr>\n",
       "      <th>3</th>\n",
       "      <td>69</td>\n",
       "    </tr>\n",
       "    <tr>\n",
       "      <th>4</th>\n",
       "      <td>ruffle</td>\n",
       "    </tr>\n",
       "    <tr>\n",
       "      <th>5</th>\n",
       "      <td>45</td>\n",
       "    </tr>\n",
       "    <tr>\n",
       "      <th>6</th>\n",
       "      <td>77</td>\n",
       "    </tr>\n",
       "    <tr>\n",
       "      <th>7</th>\n",
       "      <td>queen</td>\n",
       "    </tr>\n",
       "    <tr>\n",
       "      <th>8</th>\n",
       "      <td>89</td>\n",
       "    </tr>\n",
       "    <tr>\n",
       "      <th>9</th>\n",
       "      <td>58</td>\n",
       "    </tr>\n",
       "  </tbody>\n",
       "</table>\n",
       "</div>"
      ],
      "text/plain": [
       "        0\n",
       "0       1\n",
       "1       2\n",
       "2       3\n",
       "3      69\n",
       "4  ruffle\n",
       "5      45\n",
       "6      77\n",
       "7   queen\n",
       "8      89\n",
       "9      58"
      ]
     },
     "execution_count": 6,
     "metadata": {},
     "output_type": "execute_result"
    }
   ],
   "source": [
    "import pandas as pd\n",
    "\n",
    "dict={1,2,3,'ruffle',58,'queen',45,89,69,77}\n",
    "df=pd.DataFrame(dict)\n",
    "df"
   ]
  },
  {
   "cell_type": "code",
   "execution_count": 7,
   "id": "14f0d689",
   "metadata": {},
   "outputs": [
    {
     "data": {
      "text/html": [
       "<div>\n",
       "<style scoped>\n",
       "    .dataframe tbody tr th:only-of-type {\n",
       "        vertical-align: middle;\n",
       "    }\n",
       "\n",
       "    .dataframe tbody tr th {\n",
       "        vertical-align: top;\n",
       "    }\n",
       "\n",
       "    .dataframe thead th {\n",
       "        text-align: right;\n",
       "    }\n",
       "</style>\n",
       "<table border=\"1\" class=\"dataframe\">\n",
       "  <thead>\n",
       "    <tr style=\"text-align: right;\">\n",
       "      <th></th>\n",
       "      <th>0</th>\n",
       "    </tr>\n",
       "  </thead>\n",
       "  <tbody>\n",
       "    <tr>\n",
       "      <th>0</th>\n",
       "      <td>1</td>\n",
       "    </tr>\n",
       "    <tr>\n",
       "      <th>1</th>\n",
       "      <td>2</td>\n",
       "    </tr>\n",
       "    <tr>\n",
       "      <th>2</th>\n",
       "      <td>3</td>\n",
       "    </tr>\n",
       "    <tr>\n",
       "      <th>3</th>\n",
       "      <td>69</td>\n",
       "    </tr>\n",
       "    <tr>\n",
       "      <th>4</th>\n",
       "      <td>ruffle</td>\n",
       "    </tr>\n",
       "  </tbody>\n",
       "</table>\n",
       "</div>"
      ],
      "text/plain": [
       "        0\n",
       "0       1\n",
       "1       2\n",
       "2       3\n",
       "3      69\n",
       "4  ruffle"
      ]
     },
     "execution_count": 7,
     "metadata": {},
     "output_type": "execute_result"
    }
   ],
   "source": [
    "df.head()"
   ]
  },
  {
   "cell_type": "markdown",
   "id": "dffe0b0b",
   "metadata": {},
   "source": [
    "# Rest API"
   ]
  },
  {
   "cell_type": "markdown",
   "id": "58b1a1a5",
   "metadata": {},
   "source": [
    "Rest (REpresentational State Transfer) API is a type of API which help us to communicate through the internet allowing us to take advantage like storage, speed,AI algorithm etc\n",
    "Rest API is used to interact with the Web services(Resources) \n",
    "There are certain rules for using Rest API:\n",
    "    1. Communication\n",
    "    2. Input or Request\n",
    "    3. Output or Response\n",
    "    \n",
    "Our code is the client, the web service is the resource, the client finds the resource via a endpoint. The client sends request to the resource and the resource sends the response to the client\n",
    "HTTP methods are a way of transmitting data over the internet. We tell the Rest API what to do by sending a request, the request is send by a HTTP message\n",
    "containing a json file. Similarly the web service sends a response through a HTTP Message"
   ]
  },
  {
   "cell_type": "markdown",
   "id": "627a8eca",
   "metadata": {},
   "source": [
    "**API Keys and Endpoints**\n",
    "\n",
    "An API key is a way to access the API, its an unique set of characters used to indentify us and authorise us.\n",
    "An endpoint is simply the location of the service"
   ]
  },
  {
   "cell_type": "markdown",
   "id": "7cd77027",
   "metadata": {},
   "source": [
    "# HTTP Protocols"
   ]
  },
  {
   "cell_type": "markdown",
   "id": "f863eb88",
   "metadata": {},
   "source": [
    "The HTTP message usually contains a JSON file. When you, the client, use a web page your browser sends an  HTTP request to the server where the page is hosted. The server tries to find the desired resource by default \"index.html\". I\\ if our request is successful, the server will send the object to the client in an HTTP response; this includes information like the type of the resource, the length of the resource, and other information.\n",
    "\n",
    "Uniform resource locator (URL) is the most popular way to find resources on the web."
   ]
  },
  {
   "cell_type": "markdown",
   "id": "e832f2ab",
   "metadata": {},
   "source": [
    "**Request**\n",
    "\n",
    "Requests is a python Library that allows you to send HTTP/1.1 requests easily"
   ]
  },
  {
   "cell_type": "code",
   "execution_count": 12,
   "id": "c3d0a572",
   "metadata": {},
   "outputs": [
    {
     "data": {
      "text/plain": [
       "200"
      ]
     },
     "execution_count": 12,
     "metadata": {},
     "output_type": "execute_result"
    }
   ],
   "source": [
    "import requests\n",
    "url='https://www.ibm.com/'\n",
    "r=requests.get(url)\n",
    "r.status_code"
   ]
  },
  {
   "cell_type": "code",
   "execution_count": 13,
   "id": "89a00def",
   "metadata": {},
   "outputs": [
    {
     "data": {
      "text/plain": [
       "{'User-Agent': 'python-requests/2.31.0', 'Accept-Encoding': 'gzip, deflate, br', 'Accept': '*/*', 'Connection': 'keep-alive', 'Cookie': '_abck=26F9F09FFEAA22C631BC3DDD195E6166~-1~YAAQNq7dWJMo1BGNAQAA7n2LKAtcD/A9FhtK/4yLiKJ6IWWKdnN8suK9HLqWmyw1OkOS0T/s60+bh6i6ssunFabbWNCydy0V+Zyt3Eozi1wnhw4UJnphamihtCcuhfuKkMy2WSn3tsw5szy2ac9rBm8TkC28Z1gqn/PpqZdV+engN5Vq++1AXx7TTwYeP4hBpfmZfJeXWVuEKNop4ypDk3EFMvD8yxhcclvboDpiD9bfkTyW9Ibau6adF8b/cwQpWqNtrgVRwfO4deX8cjyxK/oNMeC91fs0e9eUnw1KBF3fFlcRjy0kmzx5B0TjrC5hh8/vEKdZ4gcJb62OjHX5FSX0kx+0qr95GrQ5J8UuwdKqs+uobL4=~-1~-1~-1; bm_sz=8B461DC9B08C19D9F2DC72E6CED043CB~YAAQNq7dWJQo1BGNAQAA7n2LKBYcoK9hf/kQQdUBqv1HHwFMMJjcipZCb8yhPSsXGnrtqt0aoKD/FqHUeZK8OSls4pjY7Moz4uqDK2MyqqbP6pX2q2Y9o6lcybmtbzQA3/1JYE8VWdbFWsm8+tlomgmnY0H779CK5quWGivcyd2FfOQyOSbbY2vQ5mi2fOBmMm4zcdKOmVgdBrAvl9yxjKraXie6ttDicjzb0SIZ24lz/mMwFqM2k75u8S9S1izstJudJvBcGAl2y9bY7i3ys6Jmx2392zRgP3PUu+2CjS5Kmu112tU9Iq8wWwWvJaOSz1wcoBIeiNV0AnUzqLaoTSrxK2wqTiuzIOvuRNfo1Ep7Vw==~3291457~4600113'}"
      ]
     },
     "execution_count": 13,
     "metadata": {},
     "output_type": "execute_result"
    }
   ],
   "source": [
    "r.request.headers"
   ]
  },
  {
   "cell_type": "code",
   "execution_count": 14,
   "id": "979d2f5f",
   "metadata": {},
   "outputs": [],
   "source": [
    "r.request.body"
   ]
  },
  {
   "cell_type": "markdown",
   "id": "8f1d8221",
   "metadata": {},
   "source": [
    "**Get Request**"
   ]
  },
  {
   "cell_type": "code",
   "execution_count": 20,
   "id": "a847ab83",
   "metadata": {},
   "outputs": [
    {
     "data": {
      "text/plain": [
       "'http://httpbin.org/get'"
      ]
     },
     "execution_count": 20,
     "metadata": {},
     "output_type": "execute_result"
    }
   ],
   "source": [
    "url_get='http://httpbin.org/get'\n",
    "\n",
    "payload={'name': 'Mike', 'ID': '125'}\n",
    "\n",
    "r=requests.get(url_get)\n",
    "r.url"
   ]
  },
  {
   "cell_type": "code",
   "execution_count": 21,
   "id": "98c7d015",
   "metadata": {},
   "outputs": [],
   "source": [
    "r.request.body"
   ]
  },
  {
   "cell_type": "code",
   "execution_count": 22,
   "id": "fb16fe77",
   "metadata": {},
   "outputs": [
    {
     "data": {
      "text/plain": [
       "200"
      ]
     },
     "execution_count": 22,
     "metadata": {},
     "output_type": "execute_result"
    }
   ],
   "source": [
    "r.status_code"
   ]
  },
  {
   "cell_type": "code",
   "execution_count": 23,
   "id": "9ee29129",
   "metadata": {},
   "outputs": [
    {
     "data": {
      "text/plain": [
       "'{\\n  \"args\": {}, \\n  \"headers\": {\\n    \"Accept\": \"*/*\", \\n    \"Accept-Encoding\": \"gzip, deflate, br\", \\n    \"Host\": \"httpbin.org\", \\n    \"User-Agent\": \"python-requests/2.31.0\", \\n    \"X-Amzn-Trace-Id\": \"Root=1-65ac2d97-3a88795171ab9cbf619d85a9\"\\n  }, \\n  \"origin\": \"88.182.197.128\", \\n  \"url\": \"http://httpbin.org/get\"\\n}\\n'"
      ]
     },
     "execution_count": 23,
     "metadata": {},
     "output_type": "execute_result"
    }
   ],
   "source": [
    "r.text"
   ]
  },
  {
   "cell_type": "code",
   "execution_count": 24,
   "id": "a995b6ff",
   "metadata": {},
   "outputs": [
    {
     "data": {
      "text/plain": [
       "'application/json'"
      ]
     },
     "execution_count": 24,
     "metadata": {},
     "output_type": "execute_result"
    }
   ],
   "source": [
    "r.headers['content-type']"
   ]
  },
  {
   "cell_type": "code",
   "execution_count": 25,
   "id": "a4440695",
   "metadata": {},
   "outputs": [
    {
     "data": {
      "text/plain": [
       "{'args': {},\n",
       " 'headers': {'Accept': '*/*',\n",
       "  'Accept-Encoding': 'gzip, deflate, br',\n",
       "  'Host': 'httpbin.org',\n",
       "  'User-Agent': 'python-requests/2.31.0',\n",
       "  'X-Amzn-Trace-Id': 'Root=1-65ac2d97-3a88795171ab9cbf619d85a9'},\n",
       " 'origin': '88.182.197.128',\n",
       " 'url': 'http://httpbin.org/get'}"
      ]
     },
     "execution_count": 25,
     "metadata": {},
     "output_type": "execute_result"
    }
   ],
   "source": [
    "r.json()"
   ]
  },
  {
   "cell_type": "markdown",
   "id": "434316c1",
   "metadata": {},
   "source": [
    "**Post Request**"
   ]
  },
  {
   "cell_type": "code",
   "execution_count": 29,
   "id": "b640d2e0",
   "metadata": {},
   "outputs": [],
   "source": [
    "url_post='http://httpbin.org/post'\n",
    "\n",
    "payload={'name': 'Mike', 'ID': '125'}\n",
    "\n",
    "r=requests.post(url_post, data=payload)"
   ]
  },
  {
   "cell_type": "code",
   "execution_count": 30,
   "id": "9c0c58b1",
   "metadata": {},
   "outputs": [
    {
     "data": {
      "text/plain": [
       "'name=Mike&ID=125'"
      ]
     },
     "execution_count": 30,
     "metadata": {},
     "output_type": "execute_result"
    }
   ],
   "source": [
    "r.request.body"
   ]
  },
  {
   "cell_type": "markdown",
   "id": "76343c0b",
   "metadata": {},
   "source": [
    "# HTML for Webscrapping"
   ]
  },
  {
   "cell_type": "markdown",
   "id": "322c19ae",
   "metadata": {},
   "source": [
    "Webscraping is a process that can be used to automatically extract information from a website, and can easily be accomplished within a matter of minutes and not hours. This can be acheived with a little Python code and the help of two modules named Requests and Beautiful Soup.\n",
    "\n",
    "Beautiful Soup is a Python library for pulling data out of HTML and XML files, we will focus on HTML files. This is accomplished by representing the HTML as a set of objects with methods used to parse the HTML. We can navigate the HTML as a tree, and/or filter out what we are looking for."
   ]
  },
  {
   "cell_type": "code",
   "execution_count": 33,
   "id": "1c6f3d16",
   "metadata": {},
   "outputs": [
    {
     "name": "stdout",
     "output_type": "stream",
     "text": [
      "Collecting html5lib\n",
      "  Downloading html5lib-1.1-py2.py3-none-any.whl (112 kB)\n",
      "     ---------------------------------------- 0.0/112.2 kB ? eta -:--:--\n",
      "     --- ------------------------------------ 10.2/112.2 kB ? eta -:--:--\n",
      "     ---------- -------------------------- 30.7/112.2 kB 330.3 kB/s eta 0:00:01\n",
      "     -------------------------------- --- 102.4/112.2 kB 737.3 kB/s eta 0:00:01\n",
      "     ------------------------------------ 112.2/112.2 kB 728.1 kB/s eta 0:00:00\n",
      "Requirement already satisfied: six>=1.9 in c:\\users\\monipmo\\anaconda3\\lib\\site-packages (from html5lib) (1.16.0)\n",
      "Requirement already satisfied: webencodings in c:\\users\\monipmo\\anaconda3\\lib\\site-packages (from html5lib) (0.5.1)\n",
      "Installing collected packages: html5lib\n",
      "Successfully installed html5lib-1.1\n"
     ]
    }
   ],
   "source": [
    "!pip install html5lib"
   ]
  },
  {
   "cell_type": "code",
   "execution_count": 36,
   "id": "63e5367e",
   "metadata": {},
   "outputs": [
    {
     "name": "stdout",
     "output_type": "stream",
     "text": [
      "Collecting bs4\n",
      "  Obtaining dependency information for bs4 from https://files.pythonhosted.org/packages/51/bb/bf7aab772a159614954d84aa832c129624ba6c32faa559dfb200a534e50b/bs4-0.0.2-py2.py3-none-any.whl.metadata\n",
      "  Downloading bs4-0.0.2-py2.py3-none-any.whl.metadata (411 bytes)\n",
      "Requirement already satisfied: beautifulsoup4 in c:\\users\\monipmo\\anaconda3\\lib\\site-packages (from bs4) (4.12.2)\n",
      "Requirement already satisfied: soupsieve>1.2 in c:\\users\\monipmo\\anaconda3\\lib\\site-packages (from beautifulsoup4->bs4) (2.4)\n",
      "Downloading bs4-0.0.2-py2.py3-none-any.whl (1.2 kB)\n",
      "Installing collected packages: bs4\n",
      "Successfully installed bs4-0.0.2\n"
     ]
    }
   ],
   "source": [
    "!pip install bs4"
   ]
  },
  {
   "cell_type": "code",
   "execution_count": 2,
   "id": "82c2f431",
   "metadata": {},
   "outputs": [],
   "source": [
    "from bs4 import BeautifulSoup # this module helps in web scrapping.\n",
    "import requests  # this module helps us to download a web page"
   ]
  },
  {
   "cell_type": "code",
   "execution_count": 3,
   "id": "8b4c430c",
   "metadata": {},
   "outputs": [],
   "source": [
    "html=\"<!DOCTYPE html><html><head><title>Page Title</title></head><body><h3><b id='boldest'>Lebron James</b></h3><p> Salary: $ 92,000,000 </p><h3> Stephen Curry</h3><p> Salary: $85,000, 000 </p><h3> Kevin Durant </h3><p> Salary: $73,200, 000</p></body></html>\""
   ]
  },
  {
   "cell_type": "code",
   "execution_count": 4,
   "id": "19789bc8",
   "metadata": {},
   "outputs": [],
   "source": [
    "soup = BeautifulSoup(html, 'html5lib')"
   ]
  },
  {
   "cell_type": "code",
   "execution_count": 5,
   "id": "dca8ed89",
   "metadata": {},
   "outputs": [
    {
     "name": "stdout",
     "output_type": "stream",
     "text": [
      "<!DOCTYPE html>\n",
      "<html>\n",
      " <head>\n",
      "  <title>\n",
      "   Page Title\n",
      "  </title>\n",
      " </head>\n",
      " <body>\n",
      "  <h3>\n",
      "   <b id=\"boldest\">\n",
      "    Lebron James\n",
      "   </b>\n",
      "  </h3>\n",
      "  <p>\n",
      "   Salary: $ 92,000,000\n",
      "  </p>\n",
      "  <h3>\n",
      "   Stephen Curry\n",
      "  </h3>\n",
      "  <p>\n",
      "   Salary: $85,000, 000\n",
      "  </p>\n",
      "  <h3>\n",
      "   Kevin Durant\n",
      "  </h3>\n",
      "  <p>\n",
      "   Salary: $73,200, 000\n",
      "  </p>\n",
      " </body>\n",
      "</html>\n",
      "\n"
     ]
    }
   ],
   "source": [
    "print(soup.prettify())"
   ]
  },
  {
   "cell_type": "markdown",
   "id": "9b56c706",
   "metadata": {},
   "source": [
    "If we want the title of the page and the name of the top paid player. We can use the Tag. The Tag object corresponds to an HTML tag in the original document, for example, the tag title."
   ]
  },
  {
   "cell_type": "code",
   "execution_count": 6,
   "id": "c79153d2",
   "metadata": {},
   "outputs": [
    {
     "name": "stdout",
     "output_type": "stream",
     "text": [
      "tag object: <title>Page Title</title>\n"
     ]
    }
   ],
   "source": [
    "tag_object=soup.title\n",
    "print(\"tag object:\",tag_object)"
   ]
  },
  {
   "cell_type": "code",
   "execution_count": 7,
   "id": "746b301b",
   "metadata": {},
   "outputs": [
    {
     "name": "stdout",
     "output_type": "stream",
     "text": [
      "tag object type: <class 'bs4.element.Tag'>\n"
     ]
    }
   ],
   "source": [
    "print(\"tag object type:\",type(tag_object))"
   ]
  },
  {
   "cell_type": "code",
   "execution_count": 8,
   "id": "b8d656b5",
   "metadata": {},
   "outputs": [
    {
     "data": {
      "text/plain": [
       "<h3><b id=\"boldest\">Lebron James</b></h3>"
      ]
     },
     "execution_count": 8,
     "metadata": {},
     "output_type": "execute_result"
    }
   ],
   "source": [
    "tag_object=soup.h3\n",
    "tag_object"
   ]
  },
  {
   "cell_type": "markdown",
   "id": "dd7765c3",
   "metadata": {},
   "source": [
    "**NavigableString**\n",
    "\n",
    "A string corresponds to a bit of text or content within a tag. Beautiful Soup uses the NavigableString class to contain this text. In our HTML we can obtain the name of the first player by extracting the string of the Tag object tag_child as follows:"
   ]
  },
  {
   "cell_type": "code",
   "execution_count": 10,
   "id": "a5cdff95",
   "metadata": {},
   "outputs": [
    {
     "data": {
      "text/plain": [
       "'Lebron James'"
      ]
     },
     "execution_count": 10,
     "metadata": {},
     "output_type": "execute_result"
    }
   ],
   "source": [
    "tag_child =tag_object.b\n",
    "tag_child\n",
    "tag_string=tag_child.string\n",
    "tag_string"
   ]
  },
  {
   "cell_type": "code",
   "execution_count": 11,
   "id": "8ae00014",
   "metadata": {},
   "outputs": [
    {
     "data": {
      "text/plain": [
       "bs4.element.NavigableString"
      ]
     },
     "execution_count": 11,
     "metadata": {},
     "output_type": "execute_result"
    }
   ],
   "source": [
    "type(tag_string)"
   ]
  },
  {
   "cell_type": "code",
   "execution_count": 12,
   "id": "39bf587a",
   "metadata": {},
   "outputs": [
    {
     "data": {
      "text/plain": [
       "'Lebron James'"
      ]
     },
     "execution_count": 12,
     "metadata": {},
     "output_type": "execute_result"
    }
   ],
   "source": [
    "unicode_string = str(tag_string)\n",
    "unicode_string"
   ]
  },
  {
   "cell_type": "markdown",
   "id": "4a341db3",
   "metadata": {},
   "source": [
    "***Filters***\n",
    "\n",
    "Filters allow you to find complex patterns, the simplest filter is a string. We can pass a string to a different filter method and Beautiful Soup will perform a match against that exact string. Consider the following HTML of rocket launches:"
   ]
  },
  {
   "cell_type": "code",
   "execution_count": 13,
   "id": "d3924bcd",
   "metadata": {},
   "outputs": [],
   "source": [
    "table=\"<table><tr><td id='flight'>Flight No</td><td>Launch site</td> <td>Payload mass</td></tr><tr> <td>1</td><td><a href='https://en.wikipedia.org/wiki/Florida'>Florida<a></td><td>300 kg</td></tr><tr><td>2</td><td><a href='https://en.wikipedia.org/wiki/Texas'>Texas</a></td><td>94 kg</td></tr><tr><td>3</td><td><a href='https://en.wikipedia.org/wiki/Florida'>Florida<a> </td><td>80 kg</td></tr></table>\""
   ]
  },
  {
   "cell_type": "code",
   "execution_count": 14,
   "id": "4aa3ddad",
   "metadata": {},
   "outputs": [],
   "source": [
    "table_bs = BeautifulSoup(table, 'html5lib')"
   ]
  },
  {
   "cell_type": "code",
   "execution_count": 15,
   "id": "7fcd34c9",
   "metadata": {},
   "outputs": [
    {
     "data": {
      "text/plain": [
       "[<tr><td id=\"flight\">Flight No</td><td>Launch site</td> <td>Payload mass</td></tr>,\n",
       " <tr> <td>1</td><td><a href=\"https://en.wikipedia.org/wiki/Florida\">Florida</a><a></a></td><td>300 kg</td></tr>,\n",
       " <tr><td>2</td><td><a href=\"https://en.wikipedia.org/wiki/Texas\">Texas</a></td><td>94 kg</td></tr>,\n",
       " <tr><td>3</td><td><a href=\"https://en.wikipedia.org/wiki/Florida\">Florida</a><a> </a></td><td>80 kg</td></tr>]"
      ]
     },
     "execution_count": 15,
     "metadata": {},
     "output_type": "execute_result"
    }
   ],
   "source": [
    "table_rows=table_bs.find_all('tr')\n",
    "table_rows"
   ]
  },
  {
   "cell_type": "code",
   "execution_count": 16,
   "id": "0779e948",
   "metadata": {},
   "outputs": [
    {
     "data": {
      "text/plain": [
       "<tr><td id=\"flight\">Flight No</td><td>Launch site</td> <td>Payload mass</td></tr>"
      ]
     },
     "execution_count": 16,
     "metadata": {},
     "output_type": "execute_result"
    }
   ],
   "source": [
    "first_row =table_rows[0]\n",
    "first_row"
   ]
  },
  {
   "cell_type": "code",
   "execution_count": 17,
   "id": "6d9702c5",
   "metadata": {},
   "outputs": [
    {
     "name": "stdout",
     "output_type": "stream",
     "text": [
      "row 0 is <tr><td id=\"flight\">Flight No</td><td>Launch site</td> <td>Payload mass</td></tr>\n",
      "row 1 is <tr> <td>1</td><td><a href=\"https://en.wikipedia.org/wiki/Florida\">Florida</a><a></a></td><td>300 kg</td></tr>\n",
      "row 2 is <tr><td>2</td><td><a href=\"https://en.wikipedia.org/wiki/Texas\">Texas</a></td><td>94 kg</td></tr>\n",
      "row 3 is <tr><td>3</td><td><a href=\"https://en.wikipedia.org/wiki/Florida\">Florida</a><a> </a></td><td>80 kg</td></tr>\n"
     ]
    }
   ],
   "source": [
    "for i,row in enumerate(table_rows):\n",
    "    print(\"row\",i,\"is\",row)"
   ]
  },
  {
   "cell_type": "code",
   "execution_count": 18,
   "id": "9fd7895b",
   "metadata": {},
   "outputs": [
    {
     "name": "stdout",
     "output_type": "stream",
     "text": [
      "row 0\n",
      "colunm 0 cell <td id=\"flight\">Flight No</td>\n",
      "colunm 1 cell <td>Launch site</td>\n",
      "colunm 2 cell <td>Payload mass</td>\n",
      "row 1\n",
      "colunm 0 cell <td>1</td>\n",
      "colunm 1 cell <td><a href=\"https://en.wikipedia.org/wiki/Florida\">Florida</a><a></a></td>\n",
      "colunm 2 cell <td>300 kg</td>\n",
      "row 2\n",
      "colunm 0 cell <td>2</td>\n",
      "colunm 1 cell <td><a href=\"https://en.wikipedia.org/wiki/Texas\">Texas</a></td>\n",
      "colunm 2 cell <td>94 kg</td>\n",
      "row 3\n",
      "colunm 0 cell <td>3</td>\n",
      "colunm 1 cell <td><a href=\"https://en.wikipedia.org/wiki/Florida\">Florida</a><a> </a></td>\n",
      "colunm 2 cell <td>80 kg</td>\n"
     ]
    }
   ],
   "source": [
    "for i,row in enumerate(table_rows):\n",
    "    print(\"row\",i)\n",
    "    cells=row.find_all('td')\n",
    "    for j,cell in enumerate(cells):\n",
    "        print('colunm',j,\"cell\",cell)"
   ]
  },
  {
   "cell_type": "code",
   "execution_count": 19,
   "id": "4c549b9d",
   "metadata": {},
   "outputs": [
    {
     "data": {
      "text/plain": [
       "[<td id=\"flight\">Flight No</td>]"
      ]
     },
     "execution_count": 19,
     "metadata": {},
     "output_type": "execute_result"
    }
   ],
   "source": [
    "table_bs.find_all(id=\"flight\")"
   ]
  },
  {
   "cell_type": "markdown",
   "id": "595e1343",
   "metadata": {},
   "source": [
    "**Downloading And Scraping The Contents Of A Web Page**"
   ]
  },
  {
   "cell_type": "markdown",
   "id": "3af9b70f",
   "metadata": {},
   "source": [
    "We Download the contents of the web page:"
   ]
  },
  {
   "cell_type": "code",
   "execution_count": 20,
   "id": "5ed7618a",
   "metadata": {},
   "outputs": [],
   "source": [
    "url = \"http://www.ibm.com\""
   ]
  },
  {
   "cell_type": "markdown",
   "id": "77fc8104",
   "metadata": {},
   "source": [
    "download the contents of the webpage in text format and store in a variable called data:"
   ]
  },
  {
   "cell_type": "code",
   "execution_count": 21,
   "id": "944c6a66",
   "metadata": {},
   "outputs": [],
   "source": [
    "data  = requests.get(url).text "
   ]
  },
  {
   "cell_type": "markdown",
   "id": "03864025",
   "metadata": {},
   "source": [
    "Create the Beautiful Soup object using the Beautiful Soup constructor"
   ]
  },
  {
   "cell_type": "code",
   "execution_count": 22,
   "id": "b65e168d",
   "metadata": {},
   "outputs": [],
   "source": [
    "soup = BeautifulSoup(data,\"html5lib\")"
   ]
  },
  {
   "cell_type": "markdown",
   "id": "edf569b5",
   "metadata": {},
   "source": [
    "Scrape all links"
   ]
  },
  {
   "cell_type": "code",
   "execution_count": 23,
   "id": "e68b7de6",
   "metadata": {},
   "outputs": [
    {
     "name": "stdout",
     "output_type": "stream",
     "text": [
      "https://www.ibm.com/fr-fr/cloud?lnk=hpfrpr1\n"
     ]
    }
   ],
   "source": [
    "for link in soup.find_all('a',href=True):\n",
    "\n",
    "    print(link.get('href'))"
   ]
  },
  {
   "cell_type": "markdown",
   "id": "ad1f04c9",
   "metadata": {},
   "source": [
    "Scrape all images"
   ]
  },
  {
   "cell_type": "code",
   "execution_count": 24,
   "id": "8ee77642",
   "metadata": {},
   "outputs": [
    {
     "name": "stdout",
     "output_type": "stream",
     "text": [
      "<img alt=\"Portraits des consultants IBM\" class=\"bx--image__img\" id=\"image-752988054\" loading=\"lazy\" src=\"/content/dam/adobe-cms/default-images/home-consultants.component.crop-16by9-xl.ts=1695221366270.jpg/content/adobe-cms/fr/fr/homepage/_jcr_content/root/table_of_contents/simple_image\"/>\n",
      "/content/dam/adobe-cms/default-images/home-consultants.component.crop-16by9-xl.ts=1695221366270.jpg/content/adobe-cms/fr/fr/homepage/_jcr_content/root/table_of_contents/simple_image\n"
     ]
    }
   ],
   "source": [
    "for link in soup.find_all('img'):# in html image is represented by the tag <img>\n",
    "    print(link)\n",
    "    print(link.get('src'))"
   ]
  },
  {
   "cell_type": "markdown",
   "id": "b8af83e3",
   "metadata": {},
   "source": [
    "**Scraping tables from a Web page using Pandas**"
   ]
  },
  {
   "cell_type": "code",
   "execution_count": 25,
   "id": "da886162",
   "metadata": {},
   "outputs": [],
   "source": [
    "url = \"https://cf-courses-data.s3.us.cloud-object-storage.appdomain.cloud/IBM-DA0321EN-SkillsNetwork/labs/datasets/HTMLColorCodes.html\""
   ]
  },
  {
   "cell_type": "code",
   "execution_count": 26,
   "id": "64a260c0",
   "metadata": {},
   "outputs": [
    {
     "data": {
      "text/plain": [
       "[         0      1               2                 3                     4\n",
       " 0   Number  Color      Color Name  Hex Code #RRGGBB  Decimal Code (R,G,B)\n",
       " 1        1    NaN     lightsalmon           #FFA07A      rgb(255,160,122)\n",
       " 2        2    NaN          salmon           #FA8072      rgb(250,128,114)\n",
       " 3        3    NaN      darksalmon           #E9967A      rgb(233,150,122)\n",
       " 4        4    NaN      lightcoral           #F08080      rgb(240,128,128)\n",
       " 5        5    NaN           coral           #FF7F50       rgb(255,127,80)\n",
       " 6        6    NaN          tomato           #FF6347        rgb(255,99,71)\n",
       " 7        7    NaN       orangered           #FF4500         rgb(255,69,0)\n",
       " 8        8    NaN            gold           #FFD700        rgb(255,215,0)\n",
       " 9        9    NaN          orange           #FFA500        rgb(255,165,0)\n",
       " 10      10    NaN      darkorange           #FF8C00        rgb(255,140,0)\n",
       " 11      11    NaN     lightyellow           #FFFFE0      rgb(255,255,224)\n",
       " 12      12    NaN    lemonchiffon           #FFFACD      rgb(255,250,205)\n",
       " 13      13    NaN      papayawhip           #FFEFD5      rgb(255,239,213)\n",
       " 14      14    NaN        moccasin           #FFE4B5      rgb(255,228,181)\n",
       " 15      15    NaN       peachpuff           #FFDAB9      rgb(255,218,185)\n",
       " 16      16    NaN   palegoldenrod           #EEE8AA      rgb(238,232,170)\n",
       " 17      17    NaN           khaki           #F0E68C      rgb(240,230,140)\n",
       " 18      18    NaN       darkkhaki           #BDB76B      rgb(189,183,107)\n",
       " 19      19    NaN          yellow           #FFFF00        rgb(255,255,0)\n",
       " 20      20    NaN       lawngreen           #7CFC00        rgb(124,252,0)\n",
       " 21      21    NaN      chartreuse           #7FFF00        rgb(127,255,0)\n",
       " 22      22    NaN       limegreen           #32CD32        rgb(50,205,50)\n",
       " 23      23    NaN            lime           #00FF00          rgb(0.255.0)\n",
       " 24      24    NaN     forestgreen           #228B22        rgb(34,139,34)\n",
       " 25      25    NaN           green           #008000          rgb(0,128,0)\n",
       " 26      26    NaN      powderblue           #B0E0E6      rgb(176,224,230)\n",
       " 27      27    NaN       lightblue           #ADD8E6      rgb(173,216,230)\n",
       " 28      28    NaN    lightskyblue           #87CEFA      rgb(135,206,250)\n",
       " 29      29    NaN         skyblue           #87CEEB      rgb(135,206,235)\n",
       " 30      30    NaN     deepskyblue           #00BFFF        rgb(0,191,255)\n",
       " 31      31    NaN  lightsteelblue           #B0C4DE      rgb(176,196,222)\n",
       " 32      32    NaN      dodgerblue           #1E90FF       rgb(30,144,255)]"
      ]
     },
     "execution_count": 26,
     "metadata": {},
     "output_type": "execute_result"
    }
   ],
   "source": [
    "import pandas as pd\n",
    "\n",
    "tables = pd.read_html(url)\n",
    "tables"
   ]
  },
  {
   "cell_type": "code",
   "execution_count": 27,
   "id": "3828e074",
   "metadata": {},
   "outputs": [
    {
     "data": {
      "text/html": [
       "<div>\n",
       "<style scoped>\n",
       "    .dataframe tbody tr th:only-of-type {\n",
       "        vertical-align: middle;\n",
       "    }\n",
       "\n",
       "    .dataframe tbody tr th {\n",
       "        vertical-align: top;\n",
       "    }\n",
       "\n",
       "    .dataframe thead th {\n",
       "        text-align: right;\n",
       "    }\n",
       "</style>\n",
       "<table border=\"1\" class=\"dataframe\">\n",
       "  <thead>\n",
       "    <tr style=\"text-align: right;\">\n",
       "      <th></th>\n",
       "      <th>0</th>\n",
       "      <th>1</th>\n",
       "      <th>2</th>\n",
       "      <th>3</th>\n",
       "      <th>4</th>\n",
       "    </tr>\n",
       "  </thead>\n",
       "  <tbody>\n",
       "    <tr>\n",
       "      <th>0</th>\n",
       "      <td>Number</td>\n",
       "      <td>Color</td>\n",
       "      <td>Color Name</td>\n",
       "      <td>Hex Code #RRGGBB</td>\n",
       "      <td>Decimal Code (R,G,B)</td>\n",
       "    </tr>\n",
       "    <tr>\n",
       "      <th>1</th>\n",
       "      <td>1</td>\n",
       "      <td>NaN</td>\n",
       "      <td>lightsalmon</td>\n",
       "      <td>#FFA07A</td>\n",
       "      <td>rgb(255,160,122)</td>\n",
       "    </tr>\n",
       "    <tr>\n",
       "      <th>2</th>\n",
       "      <td>2</td>\n",
       "      <td>NaN</td>\n",
       "      <td>salmon</td>\n",
       "      <td>#FA8072</td>\n",
       "      <td>rgb(250,128,114)</td>\n",
       "    </tr>\n",
       "    <tr>\n",
       "      <th>3</th>\n",
       "      <td>3</td>\n",
       "      <td>NaN</td>\n",
       "      <td>darksalmon</td>\n",
       "      <td>#E9967A</td>\n",
       "      <td>rgb(233,150,122)</td>\n",
       "    </tr>\n",
       "    <tr>\n",
       "      <th>4</th>\n",
       "      <td>4</td>\n",
       "      <td>NaN</td>\n",
       "      <td>lightcoral</td>\n",
       "      <td>#F08080</td>\n",
       "      <td>rgb(240,128,128)</td>\n",
       "    </tr>\n",
       "    <tr>\n",
       "      <th>5</th>\n",
       "      <td>5</td>\n",
       "      <td>NaN</td>\n",
       "      <td>coral</td>\n",
       "      <td>#FF7F50</td>\n",
       "      <td>rgb(255,127,80)</td>\n",
       "    </tr>\n",
       "    <tr>\n",
       "      <th>6</th>\n",
       "      <td>6</td>\n",
       "      <td>NaN</td>\n",
       "      <td>tomato</td>\n",
       "      <td>#FF6347</td>\n",
       "      <td>rgb(255,99,71)</td>\n",
       "    </tr>\n",
       "    <tr>\n",
       "      <th>7</th>\n",
       "      <td>7</td>\n",
       "      <td>NaN</td>\n",
       "      <td>orangered</td>\n",
       "      <td>#FF4500</td>\n",
       "      <td>rgb(255,69,0)</td>\n",
       "    </tr>\n",
       "    <tr>\n",
       "      <th>8</th>\n",
       "      <td>8</td>\n",
       "      <td>NaN</td>\n",
       "      <td>gold</td>\n",
       "      <td>#FFD700</td>\n",
       "      <td>rgb(255,215,0)</td>\n",
       "    </tr>\n",
       "    <tr>\n",
       "      <th>9</th>\n",
       "      <td>9</td>\n",
       "      <td>NaN</td>\n",
       "      <td>orange</td>\n",
       "      <td>#FFA500</td>\n",
       "      <td>rgb(255,165,0)</td>\n",
       "    </tr>\n",
       "    <tr>\n",
       "      <th>10</th>\n",
       "      <td>10</td>\n",
       "      <td>NaN</td>\n",
       "      <td>darkorange</td>\n",
       "      <td>#FF8C00</td>\n",
       "      <td>rgb(255,140,0)</td>\n",
       "    </tr>\n",
       "    <tr>\n",
       "      <th>11</th>\n",
       "      <td>11</td>\n",
       "      <td>NaN</td>\n",
       "      <td>lightyellow</td>\n",
       "      <td>#FFFFE0</td>\n",
       "      <td>rgb(255,255,224)</td>\n",
       "    </tr>\n",
       "    <tr>\n",
       "      <th>12</th>\n",
       "      <td>12</td>\n",
       "      <td>NaN</td>\n",
       "      <td>lemonchiffon</td>\n",
       "      <td>#FFFACD</td>\n",
       "      <td>rgb(255,250,205)</td>\n",
       "    </tr>\n",
       "    <tr>\n",
       "      <th>13</th>\n",
       "      <td>13</td>\n",
       "      <td>NaN</td>\n",
       "      <td>papayawhip</td>\n",
       "      <td>#FFEFD5</td>\n",
       "      <td>rgb(255,239,213)</td>\n",
       "    </tr>\n",
       "    <tr>\n",
       "      <th>14</th>\n",
       "      <td>14</td>\n",
       "      <td>NaN</td>\n",
       "      <td>moccasin</td>\n",
       "      <td>#FFE4B5</td>\n",
       "      <td>rgb(255,228,181)</td>\n",
       "    </tr>\n",
       "    <tr>\n",
       "      <th>15</th>\n",
       "      <td>15</td>\n",
       "      <td>NaN</td>\n",
       "      <td>peachpuff</td>\n",
       "      <td>#FFDAB9</td>\n",
       "      <td>rgb(255,218,185)</td>\n",
       "    </tr>\n",
       "    <tr>\n",
       "      <th>16</th>\n",
       "      <td>16</td>\n",
       "      <td>NaN</td>\n",
       "      <td>palegoldenrod</td>\n",
       "      <td>#EEE8AA</td>\n",
       "      <td>rgb(238,232,170)</td>\n",
       "    </tr>\n",
       "    <tr>\n",
       "      <th>17</th>\n",
       "      <td>17</td>\n",
       "      <td>NaN</td>\n",
       "      <td>khaki</td>\n",
       "      <td>#F0E68C</td>\n",
       "      <td>rgb(240,230,140)</td>\n",
       "    </tr>\n",
       "    <tr>\n",
       "      <th>18</th>\n",
       "      <td>18</td>\n",
       "      <td>NaN</td>\n",
       "      <td>darkkhaki</td>\n",
       "      <td>#BDB76B</td>\n",
       "      <td>rgb(189,183,107)</td>\n",
       "    </tr>\n",
       "    <tr>\n",
       "      <th>19</th>\n",
       "      <td>19</td>\n",
       "      <td>NaN</td>\n",
       "      <td>yellow</td>\n",
       "      <td>#FFFF00</td>\n",
       "      <td>rgb(255,255,0)</td>\n",
       "    </tr>\n",
       "    <tr>\n",
       "      <th>20</th>\n",
       "      <td>20</td>\n",
       "      <td>NaN</td>\n",
       "      <td>lawngreen</td>\n",
       "      <td>#7CFC00</td>\n",
       "      <td>rgb(124,252,0)</td>\n",
       "    </tr>\n",
       "    <tr>\n",
       "      <th>21</th>\n",
       "      <td>21</td>\n",
       "      <td>NaN</td>\n",
       "      <td>chartreuse</td>\n",
       "      <td>#7FFF00</td>\n",
       "      <td>rgb(127,255,0)</td>\n",
       "    </tr>\n",
       "    <tr>\n",
       "      <th>22</th>\n",
       "      <td>22</td>\n",
       "      <td>NaN</td>\n",
       "      <td>limegreen</td>\n",
       "      <td>#32CD32</td>\n",
       "      <td>rgb(50,205,50)</td>\n",
       "    </tr>\n",
       "    <tr>\n",
       "      <th>23</th>\n",
       "      <td>23</td>\n",
       "      <td>NaN</td>\n",
       "      <td>lime</td>\n",
       "      <td>#00FF00</td>\n",
       "      <td>rgb(0.255.0)</td>\n",
       "    </tr>\n",
       "    <tr>\n",
       "      <th>24</th>\n",
       "      <td>24</td>\n",
       "      <td>NaN</td>\n",
       "      <td>forestgreen</td>\n",
       "      <td>#228B22</td>\n",
       "      <td>rgb(34,139,34)</td>\n",
       "    </tr>\n",
       "    <tr>\n",
       "      <th>25</th>\n",
       "      <td>25</td>\n",
       "      <td>NaN</td>\n",
       "      <td>green</td>\n",
       "      <td>#008000</td>\n",
       "      <td>rgb(0,128,0)</td>\n",
       "    </tr>\n",
       "    <tr>\n",
       "      <th>26</th>\n",
       "      <td>26</td>\n",
       "      <td>NaN</td>\n",
       "      <td>powderblue</td>\n",
       "      <td>#B0E0E6</td>\n",
       "      <td>rgb(176,224,230)</td>\n",
       "    </tr>\n",
       "    <tr>\n",
       "      <th>27</th>\n",
       "      <td>27</td>\n",
       "      <td>NaN</td>\n",
       "      <td>lightblue</td>\n",
       "      <td>#ADD8E6</td>\n",
       "      <td>rgb(173,216,230)</td>\n",
       "    </tr>\n",
       "    <tr>\n",
       "      <th>28</th>\n",
       "      <td>28</td>\n",
       "      <td>NaN</td>\n",
       "      <td>lightskyblue</td>\n",
       "      <td>#87CEFA</td>\n",
       "      <td>rgb(135,206,250)</td>\n",
       "    </tr>\n",
       "    <tr>\n",
       "      <th>29</th>\n",
       "      <td>29</td>\n",
       "      <td>NaN</td>\n",
       "      <td>skyblue</td>\n",
       "      <td>#87CEEB</td>\n",
       "      <td>rgb(135,206,235)</td>\n",
       "    </tr>\n",
       "    <tr>\n",
       "      <th>30</th>\n",
       "      <td>30</td>\n",
       "      <td>NaN</td>\n",
       "      <td>deepskyblue</td>\n",
       "      <td>#00BFFF</td>\n",
       "      <td>rgb(0,191,255)</td>\n",
       "    </tr>\n",
       "    <tr>\n",
       "      <th>31</th>\n",
       "      <td>31</td>\n",
       "      <td>NaN</td>\n",
       "      <td>lightsteelblue</td>\n",
       "      <td>#B0C4DE</td>\n",
       "      <td>rgb(176,196,222)</td>\n",
       "    </tr>\n",
       "    <tr>\n",
       "      <th>32</th>\n",
       "      <td>32</td>\n",
       "      <td>NaN</td>\n",
       "      <td>dodgerblue</td>\n",
       "      <td>#1E90FF</td>\n",
       "      <td>rgb(30,144,255)</td>\n",
       "    </tr>\n",
       "  </tbody>\n",
       "</table>\n",
       "</div>"
      ],
      "text/plain": [
       "         0      1               2                 3                     4\n",
       "0   Number  Color      Color Name  Hex Code #RRGGBB  Decimal Code (R,G,B)\n",
       "1        1    NaN     lightsalmon           #FFA07A      rgb(255,160,122)\n",
       "2        2    NaN          salmon           #FA8072      rgb(250,128,114)\n",
       "3        3    NaN      darksalmon           #E9967A      rgb(233,150,122)\n",
       "4        4    NaN      lightcoral           #F08080      rgb(240,128,128)\n",
       "5        5    NaN           coral           #FF7F50       rgb(255,127,80)\n",
       "6        6    NaN          tomato           #FF6347        rgb(255,99,71)\n",
       "7        7    NaN       orangered           #FF4500         rgb(255,69,0)\n",
       "8        8    NaN            gold           #FFD700        rgb(255,215,0)\n",
       "9        9    NaN          orange           #FFA500        rgb(255,165,0)\n",
       "10      10    NaN      darkorange           #FF8C00        rgb(255,140,0)\n",
       "11      11    NaN     lightyellow           #FFFFE0      rgb(255,255,224)\n",
       "12      12    NaN    lemonchiffon           #FFFACD      rgb(255,250,205)\n",
       "13      13    NaN      papayawhip           #FFEFD5      rgb(255,239,213)\n",
       "14      14    NaN        moccasin           #FFE4B5      rgb(255,228,181)\n",
       "15      15    NaN       peachpuff           #FFDAB9      rgb(255,218,185)\n",
       "16      16    NaN   palegoldenrod           #EEE8AA      rgb(238,232,170)\n",
       "17      17    NaN           khaki           #F0E68C      rgb(240,230,140)\n",
       "18      18    NaN       darkkhaki           #BDB76B      rgb(189,183,107)\n",
       "19      19    NaN          yellow           #FFFF00        rgb(255,255,0)\n",
       "20      20    NaN       lawngreen           #7CFC00        rgb(124,252,0)\n",
       "21      21    NaN      chartreuse           #7FFF00        rgb(127,255,0)\n",
       "22      22    NaN       limegreen           #32CD32        rgb(50,205,50)\n",
       "23      23    NaN            lime           #00FF00          rgb(0.255.0)\n",
       "24      24    NaN     forestgreen           #228B22        rgb(34,139,34)\n",
       "25      25    NaN           green           #008000          rgb(0,128,0)\n",
       "26      26    NaN      powderblue           #B0E0E6      rgb(176,224,230)\n",
       "27      27    NaN       lightblue           #ADD8E6      rgb(173,216,230)\n",
       "28      28    NaN    lightskyblue           #87CEFA      rgb(135,206,250)\n",
       "29      29    NaN         skyblue           #87CEEB      rgb(135,206,235)\n",
       "30      30    NaN     deepskyblue           #00BFFF        rgb(0,191,255)\n",
       "31      31    NaN  lightsteelblue           #B0C4DE      rgb(176,196,222)\n",
       "32      32    NaN      dodgerblue           #1E90FF       rgb(30,144,255)"
      ]
     },
     "execution_count": 27,
     "metadata": {},
     "output_type": "execute_result"
    }
   ],
   "source": [
    "tables[0]"
   ]
  },
  {
   "cell_type": "code",
   "execution_count": null,
   "id": "ce66364a",
   "metadata": {},
   "outputs": [],
   "source": []
  }
 ],
 "metadata": {
  "kernelspec": {
   "display_name": "Python 3 (ipykernel)",
   "language": "python",
   "name": "python3"
  },
  "language_info": {
   "codemirror_mode": {
    "name": "ipython",
    "version": 3
   },
   "file_extension": ".py",
   "mimetype": "text/x-python",
   "name": "python",
   "nbconvert_exporter": "python",
   "pygments_lexer": "ipython3",
   "version": "3.11.5"
  }
 },
 "nbformat": 4,
 "nbformat_minor": 5
}
