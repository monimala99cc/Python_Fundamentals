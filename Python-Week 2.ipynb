{
 "cells": [
  {
   "cell_type": "markdown",
   "id": "a900eb5d",
   "metadata": {},
   "source": [
    "# Tuples\n",
    "Tuples are ordered sequence\n",
    "They are comma sepearted elements written within paranthesis\n",
    "\n",
    "Eg: ratings=(2,5,4,3,1)\n",
    "\n",
    "\n",
    "In Python, we can store string, integer and float all together in a tuple. Where the type( tuple1) is tuple\n",
    "\n",
    "eg: tuple1=( \"moni\", 10, 55.25)\n",
    "Each element can be accessed by an index"
   ]
  },
  {
   "cell_type": "code",
   "execution_count": 1,
   "id": "544c4ede",
   "metadata": {},
   "outputs": [
    {
     "data": {
      "text/plain": [
       "tuple"
      ]
     },
     "execution_count": 1,
     "metadata": {},
     "output_type": "execute_result"
    }
   ],
   "source": [
    "tuple1=( \"moni\", 10, 55.25)\n",
    "\n",
    "type(tuple1)"
   ]
  },
  {
   "cell_type": "code",
   "execution_count": 2,
   "id": "100f1bcc",
   "metadata": {},
   "outputs": [
    {
     "data": {
      "text/plain": [
       "'moni'"
      ]
     },
     "execution_count": 2,
     "metadata": {},
     "output_type": "execute_result"
    }
   ],
   "source": [
    "tuple1[0]"
   ]
  },
  {
   "cell_type": "code",
   "execution_count": 3,
   "id": "2fab76aa",
   "metadata": {},
   "outputs": [
    {
     "data": {
      "text/plain": [
       "10"
      ]
     },
     "execution_count": 3,
     "metadata": {},
     "output_type": "execute_result"
    }
   ],
   "source": [
    "tuple1[1]"
   ]
  },
  {
   "cell_type": "code",
   "execution_count": 4,
   "id": "24f85ae1",
   "metadata": {},
   "outputs": [
    {
     "data": {
      "text/plain": [
       "55.25"
      ]
     },
     "execution_count": 4,
     "metadata": {},
     "output_type": "execute_result"
    }
   ],
   "source": [
    "tuple1[2]"
   ]
  },
  {
   "cell_type": "markdown",
   "id": "fe7d8e55",
   "metadata": {},
   "source": [
    "We can concat tuples by adding them"
   ]
  },
  {
   "cell_type": "code",
   "execution_count": 6,
   "id": "219efade",
   "metadata": {},
   "outputs": [
    {
     "data": {
      "text/plain": [
       "('moni', 10, 55.25, 'Python', 22.5)"
      ]
     },
     "execution_count": 6,
     "metadata": {},
     "output_type": "execute_result"
    }
   ],
   "source": [
    "tuple2=tuple1+(\"Python\", 22.5)\n",
    "tuple2"
   ]
  },
  {
   "cell_type": "markdown",
   "id": "ab41fd64",
   "metadata": {},
   "source": [
    "# # Tuple Slicing"
   ]
  },
  {
   "cell_type": "code",
   "execution_count": 7,
   "id": "a29ea6a9",
   "metadata": {},
   "outputs": [
    {
     "data": {
      "text/plain": [
       "('moni', 10)"
      ]
     },
     "execution_count": 7,
     "metadata": {},
     "output_type": "execute_result"
    }
   ],
   "source": [
    "tuple2[0:2]"
   ]
  },
  {
   "cell_type": "markdown",
   "id": "ee3c8681",
   "metadata": {},
   "source": [
    "lenth function returns the number of elements in the tuple"
   ]
  },
  {
   "cell_type": "code",
   "execution_count": 8,
   "id": "f75f7a8b",
   "metadata": {},
   "outputs": [
    {
     "data": {
      "text/plain": [
       "5"
      ]
     },
     "execution_count": 8,
     "metadata": {},
     "output_type": "execute_result"
    }
   ],
   "source": [
    "len(tuple2)"
   ]
  },
  {
   "cell_type": "markdown",
   "id": "928a5017",
   "metadata": {},
   "source": [
    "Tuples are immutable"
   ]
  },
  {
   "cell_type": "markdown",
   "id": "3d00e383",
   "metadata": {},
   "source": [
    "Tuples Nesting: One tuple can contain other tuples as well"
   ]
  },
  {
   "cell_type": "code",
   "execution_count": 9,
   "id": "29f59795",
   "metadata": {},
   "outputs": [],
   "source": [
    "NT= (11,22.5,(\"nesting\",45.36),45,\"tuples\",(77.5,88))"
   ]
  },
  {
   "cell_type": "code",
   "execution_count": 11,
   "id": "b70e56df",
   "metadata": {},
   "outputs": [
    {
     "data": {
      "text/plain": [
       "45.36"
      ]
     },
     "execution_count": 11,
     "metadata": {},
     "output_type": "execute_result"
    }
   ],
   "source": [
    "NT[2][1]"
   ]
  },
  {
   "cell_type": "code",
   "execution_count": 12,
   "id": "c8cf5aec",
   "metadata": {},
   "outputs": [
    {
     "data": {
      "text/plain": [
       "2"
      ]
     },
     "execution_count": 12,
     "metadata": {},
     "output_type": "execute_result"
    }
   ],
   "source": [
    "len(NT[2])"
   ]
  },
  {
   "cell_type": "markdown",
   "id": "8b914f74",
   "metadata": {},
   "source": [
    "# Lists\n",
    "List is also a sequence of ordered elements\n",
    "It is represented by square brackets\n",
    "\n",
    "We can store strings, integers, float, nest lists and tuples"
   ]
  },
  {
   "cell_type": "code",
   "execution_count": 13,
   "id": "e5a424e0",
   "metadata": {},
   "outputs": [],
   "source": [
    "l1=[\"louis\",22.3,22,[55,44.2],(\"Tiger\",89)]"
   ]
  },
  {
   "cell_type": "markdown",
   "id": "7d53d8a5",
   "metadata": {},
   "source": [
    "List Slicing"
   ]
  },
  {
   "cell_type": "code",
   "execution_count": 15,
   "id": "293fa253",
   "metadata": {},
   "outputs": [
    {
     "data": {
      "text/plain": [
       "[[55, 44.2], ('Tiger', 89)]"
      ]
     },
     "execution_count": 15,
     "metadata": {},
     "output_type": "execute_result"
    }
   ],
   "source": [
    "l1[3:5]"
   ]
  },
  {
   "cell_type": "markdown",
   "id": "fe3d29b0",
   "metadata": {},
   "source": [
    "List can be concatenated by adding them"
   ]
  },
  {
   "cell_type": "code",
   "execution_count": 18,
   "id": "04616716",
   "metadata": {},
   "outputs": [
    {
     "data": {
      "text/plain": [
       "['louis', 22.3, 22, [55, 44.2], ('Tiger', 89), 445, 'Donny']"
      ]
     },
     "execution_count": 18,
     "metadata": {},
     "output_type": "execute_result"
    }
   ],
   "source": [
    "l2=l1+[445,\"Donny\"]\n",
    "l2"
   ]
  },
  {
   "cell_type": "code",
   "execution_count": 23,
   "id": "cdf3ed0f",
   "metadata": {},
   "outputs": [
    {
     "data": {
      "text/plain": [
       "11"
      ]
     },
     "execution_count": 23,
     "metadata": {},
     "output_type": "execute_result"
    }
   ],
   "source": [
    "len(l2)"
   ]
  },
  {
   "cell_type": "markdown",
   "id": "47567210",
   "metadata": {},
   "source": [
    "Lists are mutable"
   ]
  },
  {
   "cell_type": "code",
   "execution_count": 21,
   "id": "28b944d6",
   "metadata": {},
   "outputs": [
    {
     "data": {
      "text/plain": [
       "['louis',\n",
       " 22.3,\n",
       " 22,\n",
       " [55, 44.2],\n",
       " ('Tiger', 89),\n",
       " 445,\n",
       " 'Donny',\n",
       " 'pop',\n",
       " 13,\n",
       " 'pop',\n",
       " 13]"
      ]
     },
     "execution_count": 21,
     "metadata": {},
     "output_type": "execute_result"
    }
   ],
   "source": [
    "l2.extend([\"pop\",13])\n",
    "l2"
   ]
  },
  {
   "cell_type": "code",
   "execution_count": 22,
   "id": "4989d373",
   "metadata": {},
   "outputs": [
    {
     "data": {
      "text/plain": [
       "11"
      ]
     },
     "execution_count": 22,
     "metadata": {},
     "output_type": "execute_result"
    }
   ],
   "source": [
    "len(l2)"
   ]
  },
  {
   "cell_type": "code",
   "execution_count": 24,
   "id": "d8852e81",
   "metadata": {},
   "outputs": [
    {
     "data": {
      "text/plain": [
       "['louis',\n",
       " 22.3,\n",
       " 22,\n",
       " [55, 44.2],\n",
       " ('Tiger', 89),\n",
       " 445,\n",
       " 'Donny',\n",
       " 'pop',\n",
       " 13,\n",
       " 'pop',\n",
       " 13,\n",
       " ['jack', 103]]"
      ]
     },
     "execution_count": 24,
     "metadata": {},
     "output_type": "execute_result"
    }
   ],
   "source": [
    "l2.append([\"jack\",103])\n",
    "l2"
   ]
  },
  {
   "cell_type": "code",
   "execution_count": 25,
   "id": "8f9a73ec",
   "metadata": {},
   "outputs": [
    {
     "data": {
      "text/plain": [
       "12"
      ]
     },
     "execution_count": 25,
     "metadata": {},
     "output_type": "execute_result"
    }
   ],
   "source": [
    "len(l2)"
   ]
  },
  {
   "cell_type": "markdown",
   "id": "691e3ed5",
   "metadata": {},
   "source": [
    "Since Lists are mutable we can add or remove elements at any index"
   ]
  },
  {
   "cell_type": "code",
   "execution_count": 26,
   "id": "cf8a7fe7",
   "metadata": {},
   "outputs": [],
   "source": [
    "l2[4]=\"Betty\""
   ]
  },
  {
   "cell_type": "code",
   "execution_count": 27,
   "id": "4b72446d",
   "metadata": {},
   "outputs": [
    {
     "data": {
      "text/plain": [
       "['louis',\n",
       " 22.3,\n",
       " 22,\n",
       " [55, 44.2],\n",
       " 'Betty',\n",
       " 445,\n",
       " 'Donny',\n",
       " 'pop',\n",
       " 13,\n",
       " 'pop',\n",
       " 13,\n",
       " ['jack', 103]]"
      ]
     },
     "execution_count": 27,
     "metadata": {},
     "output_type": "execute_result"
    }
   ],
   "source": [
    "l2"
   ]
  },
  {
   "cell_type": "code",
   "execution_count": 28,
   "id": "0a180493",
   "metadata": {},
   "outputs": [],
   "source": [
    "del(l2[4])"
   ]
  },
  {
   "cell_type": "code",
   "execution_count": 29,
   "id": "a03852af",
   "metadata": {},
   "outputs": [
    {
     "data": {
      "text/plain": [
       "['louis',\n",
       " 22.3,\n",
       " 22,\n",
       " [55, 44.2],\n",
       " 445,\n",
       " 'Donny',\n",
       " 'pop',\n",
       " 13,\n",
       " 'pop',\n",
       " 13,\n",
       " ['jack', 103]]"
      ]
     },
     "execution_count": 29,
     "metadata": {},
     "output_type": "execute_result"
    }
   ],
   "source": [
    "l2"
   ]
  },
  {
   "cell_type": "markdown",
   "id": "6fd8fc9b",
   "metadata": {},
   "source": [
    "Convert String to list"
   ]
  },
  {
   "cell_type": "code",
   "execution_count": 31,
   "id": "06ffd53a",
   "metadata": {},
   "outputs": [
    {
     "data": {
      "text/plain": [
       "['Hello', 'Mike!!']"
      ]
     },
     "execution_count": 31,
     "metadata": {},
     "output_type": "execute_result"
    }
   ],
   "source": [
    "str=\"Hello Mike!!\"\n",
    "str1=str.split()\n",
    "str1"
   ]
  },
  {
   "cell_type": "markdown",
   "id": "7c5122a8",
   "metadata": {},
   "source": [
    "We can also specify any delimiter like , ; : etc"
   ]
  },
  {
   "cell_type": "code",
   "execution_count": 34,
   "id": "c537b387",
   "metadata": {},
   "outputs": [
    {
     "data": {
      "text/plain": [
       "['A', 'B', 'C', 'D', '!']"
      ]
     },
     "execution_count": 34,
     "metadata": {},
     "output_type": "execute_result"
    }
   ],
   "source": [
    "str3=\"A,B,C,D,!\"\n",
    "str4=str3.split(\",\")\n",
    "str4"
   ]
  },
  {
   "cell_type": "markdown",
   "id": "8c29be7b",
   "metadata": {},
   "source": [
    "Since Lists are mututable if two lists are referencing same list ... if one list change other will also change"
   ]
  },
  {
   "cell_type": "code",
   "execution_count": 35,
   "id": "6ac20af7",
   "metadata": {},
   "outputs": [
    {
     "data": {
      "text/plain": [
       "4"
      ]
     },
     "execution_count": 35,
     "metadata": {},
     "output_type": "execute_result"
    }
   ],
   "source": [
    "list1=[2,4,5,6]\n",
    "list2=list1\n",
    "list1[1]"
   ]
  },
  {
   "cell_type": "code",
   "execution_count": 36,
   "id": "1b742077",
   "metadata": {},
   "outputs": [
    {
     "data": {
      "text/plain": [
       "55"
      ]
     },
     "execution_count": 36,
     "metadata": {},
     "output_type": "execute_result"
    }
   ],
   "source": [
    "list2[1]=55\n",
    "list1[1]"
   ]
  },
  {
   "cell_type": "markdown",
   "id": "1e3af620",
   "metadata": {},
   "source": [
    "This problem can be overcomed by List cloning"
   ]
  },
  {
   "cell_type": "code",
   "execution_count": 37,
   "id": "3ce433c3",
   "metadata": {},
   "outputs": [
    {
     "data": {
      "text/plain": [
       "4"
      ]
     },
     "execution_count": 37,
     "metadata": {},
     "output_type": "execute_result"
    }
   ],
   "source": [
    "A=[5,4,8,4]\n",
    "B=A[:]\n",
    "\n",
    "B[1]=44\n",
    "A[1]"
   ]
  },
  {
   "cell_type": "markdown",
   "id": "d78e9b29",
   "metadata": {},
   "source": [
    "# Dictionaries\n",
    "\n",
    "Dictionaries are a type of collection in Python\n",
    "In Dictionaries the values are stored as key-value paris\n",
    "\n",
    "Dictionaries are denoted by curly brackets\n",
    "The keys should be unique and immutable\n",
    "The values can be duplicate and mutable\n",
    "Each key value should be seperated by comma"
   ]
  },
  {
   "cell_type": "code",
   "execution_count": 39,
   "id": "81ddd91a",
   "metadata": {},
   "outputs": [
    {
     "data": {
      "text/plain": [
       "1"
      ]
     },
     "execution_count": 39,
     "metadata": {},
     "output_type": "execute_result"
    }
   ],
   "source": [
    "dic={\"a\":1,\"b\":2,\"c\":3,\"d\":4}\n",
    "\n",
    "dic[\"a\"]"
   ]
  },
  {
   "cell_type": "markdown",
   "id": "f65ef3b9",
   "metadata": {},
   "source": [
    "Check an element in a dictionary"
   ]
  },
  {
   "cell_type": "code",
   "execution_count": 40,
   "id": "ca4bc7c3",
   "metadata": {},
   "outputs": [
    {
     "data": {
      "text/plain": [
       "True"
      ]
     },
     "execution_count": 40,
     "metadata": {},
     "output_type": "execute_result"
    }
   ],
   "source": [
    "\"a\" in dic"
   ]
  },
  {
   "cell_type": "code",
   "execution_count": 41,
   "id": "fbf031c4",
   "metadata": {},
   "outputs": [
    {
     "data": {
      "text/plain": [
       "False"
      ]
     },
     "execution_count": 41,
     "metadata": {},
     "output_type": "execute_result"
    }
   ],
   "source": [
    "\"f\" in dic"
   ]
  },
  {
   "cell_type": "code",
   "execution_count": 43,
   "id": "51cb3cc8",
   "metadata": {},
   "outputs": [
    {
     "data": {
      "text/plain": [
       "dict_keys(['a', 'b', 'c', 'd'])"
      ]
     },
     "execution_count": 43,
     "metadata": {},
     "output_type": "execute_result"
    }
   ],
   "source": [
    "dic.keys()"
   ]
  },
  {
   "cell_type": "code",
   "execution_count": 44,
   "id": "525ccc26",
   "metadata": {},
   "outputs": [
    {
     "data": {
      "text/plain": [
       "dict_values([1, 2, 3, 4])"
      ]
     },
     "execution_count": 44,
     "metadata": {},
     "output_type": "execute_result"
    }
   ],
   "source": [
    "dic.values()"
   ]
  },
  {
   "cell_type": "markdown",
   "id": "62fec9aa",
   "metadata": {},
   "source": [
    "# Sets\n",
    "\n",
    "They are also a type of collection, which means we can input different python types\n",
    "\n",
    "Unlist lists and tupes Sets are unordered meaning they dont record element position. They only store unique elements.\n",
    "\n",
    "Sets are defined by curly brackets"
   ]
  },
  {
   "cell_type": "markdown",
   "id": "0e49c303",
   "metadata": {},
   "source": [
    "Type casting list to set"
   ]
  },
  {
   "cell_type": "code",
   "execution_count": 45,
   "id": "6a60c19a",
   "metadata": {},
   "outputs": [
    {
     "data": {
      "text/plain": [
       "{1, 2, 4, 5, 8}"
      ]
     },
     "execution_count": 45,
     "metadata": {},
     "output_type": "execute_result"
    }
   ],
   "source": [
    "List_new=[1,2,5,4,8]\n",
    "\n",
    "set_new=set(List_new)\n",
    "set_new"
   ]
  },
  {
   "cell_type": "code",
   "execution_count": 46,
   "id": "9918356a",
   "metadata": {},
   "outputs": [],
   "source": [
    "set_new.add(589)"
   ]
  },
  {
   "cell_type": "code",
   "execution_count": 47,
   "id": "422f8ef0",
   "metadata": {},
   "outputs": [],
   "source": [
    "set_new.add(589)"
   ]
  },
  {
   "cell_type": "code",
   "execution_count": 48,
   "id": "be24c416",
   "metadata": {},
   "outputs": [
    {
     "data": {
      "text/plain": [
       "{1, 2, 4, 5, 8, 589}"
      ]
     },
     "execution_count": 48,
     "metadata": {},
     "output_type": "execute_result"
    }
   ],
   "source": [
    "set_new"
   ]
  },
  {
   "cell_type": "code",
   "execution_count": 49,
   "id": "c013f4bb",
   "metadata": {},
   "outputs": [],
   "source": [
    "set_new.remove(4)"
   ]
  },
  {
   "cell_type": "code",
   "execution_count": 50,
   "id": "d7773343",
   "metadata": {},
   "outputs": [
    {
     "data": {
      "text/plain": [
       "{1, 2, 5, 8, 589}"
      ]
     },
     "execution_count": 50,
     "metadata": {},
     "output_type": "execute_result"
    }
   ],
   "source": [
    "set_new"
   ]
  },
  {
   "cell_type": "code",
   "execution_count": 51,
   "id": "4a359eba",
   "metadata": {},
   "outputs": [
    {
     "data": {
      "text/plain": [
       "False"
      ]
     },
     "execution_count": 51,
     "metadata": {},
     "output_type": "execute_result"
    }
   ],
   "source": [
    "4 in set_new"
   ]
  },
  {
   "cell_type": "code",
   "execution_count": 56,
   "id": "b666f2eb",
   "metadata": {},
   "outputs": [
    {
     "data": {
      "text/plain": [
       "{1, 2, 4}"
      ]
     },
     "execution_count": 56,
     "metadata": {},
     "output_type": "execute_result"
    }
   ],
   "source": [
    "set1={1,2,3,4,5}\n",
    "set2={1,2,8,4,9}\n",
    "set8={1,2}\n",
    "set3=set1 & set2\n",
    "set3"
   ]
  },
  {
   "cell_type": "code",
   "execution_count": 53,
   "id": "9d6abf1a",
   "metadata": {},
   "outputs": [
    {
     "data": {
      "text/plain": [
       "{1, 2, 3, 4, 5, 8, 9}"
      ]
     },
     "execution_count": 53,
     "metadata": {},
     "output_type": "execute_result"
    }
   ],
   "source": [
    "set4=set1.union(set2)\n",
    "set4"
   ]
  },
  {
   "cell_type": "code",
   "execution_count": 54,
   "id": "56147184",
   "metadata": {},
   "outputs": [
    {
     "data": {
      "text/plain": [
       "False"
      ]
     },
     "execution_count": 54,
     "metadata": {},
     "output_type": "execute_result"
    }
   ],
   "source": [
    "set1.issubset(set2)"
   ]
  },
  {
   "cell_type": "code",
   "execution_count": 58,
   "id": "6ee5ec0a",
   "metadata": {},
   "outputs": [
    {
     "data": {
      "text/plain": [
       "True"
      ]
     },
     "execution_count": 58,
     "metadata": {},
     "output_type": "execute_result"
    }
   ],
   "source": [
    "set8.issubset(set1)"
   ]
  },
  {
   "cell_type": "code",
   "execution_count": null,
   "id": "37b874c2",
   "metadata": {},
   "outputs": [],
   "source": []
  }
 ],
 "metadata": {
  "kernelspec": {
   "display_name": "Python 3 (ipykernel)",
   "language": "python",
   "name": "python3"
  },
  "language_info": {
   "codemirror_mode": {
    "name": "ipython",
    "version": 3
   },
   "file_extension": ".py",
   "mimetype": "text/x-python",
   "name": "python",
   "nbconvert_exporter": "python",
   "pygments_lexer": "ipython3",
   "version": "3.11.5"
  }
 },
 "nbformat": 4,
 "nbformat_minor": 5
}
